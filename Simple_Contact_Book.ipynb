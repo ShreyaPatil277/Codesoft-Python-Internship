{
  "nbformat": 4,
  "nbformat_minor": 0,
  "metadata": {
    "colab": {
      "provenance": [],
      "authorship_tag": "ABX9TyM3E78CtlpvnxZWRH5iSxfX",
      "include_colab_link": true
    },
    "kernelspec": {
      "name": "python3",
      "display_name": "Python 3"
    },
    "language_info": {
      "name": "python"
    }
  },
  "cells": [
    {
      "cell_type": "markdown",
      "metadata": {
        "id": "view-in-github",
        "colab_type": "text"
      },
      "source": [
        "<a href=\"https://colab.research.google.com/github/ShreyaPatil277/Codesoft-Python-Internship/blob/main/Simple_Contact_Book.ipynb\" target=\"_parent\"><img src=\"https://colab.research.google.com/assets/colab-badge.svg\" alt=\"Open In Colab\"/></a>"
      ]
    },
    {
      "cell_type": "code",
      "source": [
        "class Contact:\n",
        "    def __init__(self, name, phone, email, address):\n",
        "        self.name = name\n",
        "        self.phone = phone\n",
        "        self.email = email\n",
        "        self.address = address\n",
        "\n",
        "    def __str__(self):\n",
        "        return f\"Name: {self.name}, Phone: {self.phone}, Email: {self.email}, Address: {self.address}\"\n",
        "\n",
        "\n",
        "class ContactManager:\n",
        "    def __init__(self):\n",
        "        self.contacts = {}\n",
        "\n",
        "    def add_contact(self, name, phone, email, address):\n",
        "        if phone in self.contacts:\n",
        "            print(\"Contact with this phone number already exists.\")\n",
        "        else:\n",
        "            self.contacts[phone] = Contact(name, phone, email, address)\n",
        "            print(\"Contact added successfully!\")\n",
        "\n",
        "    def view_contacts(self):\n",
        "        if self.contacts:\n",
        "            for phone, contact in self.contacts.items():\n",
        "                print(contact)\n",
        "        else:\n",
        "            print(\"No contacts available.\")\n",
        "\n",
        "    def search_contact(self, search_term):\n",
        "        found = False\n",
        "        for contact in self.contacts.values():\n",
        "            if search_term in contact.name or search_term in contact.phone:\n",
        "                print(contact)\n",
        "                found = True\n",
        "        if not found:\n",
        "            print(\"No contact found.\")\n",
        "\n",
        "    def update_contact(self, phone):\n",
        "        if phone in self.contacts:\n",
        "            name = input(\"Enter new name: \")\n",
        "            email = input(\"Enter new email: \")\n",
        "            address = input(\"Enter new address: \")\n",
        "            self.contacts[phone].name = name\n",
        "            self.contacts[phone].email = email\n",
        "            self.contacts[phone].address = address\n",
        "            print(\"Contact updated successfully!\")\n",
        "        else:\n",
        "            print(\"Contact not found.\")\n",
        "\n",
        "    def delete_contact(self, phone):\n",
        "        if phone in self.contacts:\n",
        "            del self.contacts[phone]\n",
        "            print(\"Contact deleted successfully!\")\n",
        "        else:\n",
        "            print(\"Contact not found.\")\n",
        "\n",
        "    def menu(self):\n",
        "        while True:\n",
        "            print(\"\\n--- Contact Manager ---\")\n",
        "            print(\"1. Add Contact\")\n",
        "            print(\"2. View Contact List\")\n",
        "            print(\"3. Search Contact\")\n",
        "            print(\"4. Update Contact\")\n",
        "            print(\"5. Delete Contact\")\n",
        "            print(\"6. Exit\")\n",
        "\n",
        "            choice = input(\"Choose an option: \")\n",
        "            if choice == '1':\n",
        "                name = input(\"Enter name: \")\n",
        "                phone = input(\"Enter phone number: \")\n",
        "                email = input(\"Enter email: \")\n",
        "                address = input(\"Enter address: \")\n",
        "                self.add_contact(name, phone, email, address)\n",
        "            elif choice == '2':\n",
        "                self.view_contacts()\n",
        "            elif choice == '3':\n",
        "                search_term = input(\"Enter name or phone number to search: \")\n",
        "                self.search_contact(search_term)\n",
        "            elif choice == '4':\n",
        "                phone = input(\"Enter phone number of the contact to update: \")\n",
        "                self.update_contact(phone)\n",
        "            elif choice == '5':\n",
        "                phone = input(\"Enter phone number of the contact to delete: \")\n",
        "                self.delete_contact(phone)\n",
        "            elif choice == '6':\n",
        "                print(\"Exiting...\")\n",
        "                break\n",
        "            else:\n",
        "                print(\"Invalid choice, please try again.\")\n",
        "\n",
        "\n",
        "if __name__ == \"__main__\":\n",
        "    manager = ContactManager()\n",
        "    manager.menu()\n"
      ],
      "metadata": {
        "colab": {
          "base_uri": "https://localhost:8080/"
        },
        "id": "PpvonMEHEMy6",
        "outputId": "9090d595-648f-4c7b-87fa-3c17a2dbdadf"
      },
      "execution_count": null,
      "outputs": [
        {
          "output_type": "stream",
          "name": "stdout",
          "text": [
            "\n",
            "--- Contact Manager ---\n",
            "1. Add Contact\n",
            "2. View Contact List\n",
            "3. Search Contact\n",
            "4. Update Contact\n",
            "5. Delete Contact\n",
            "6. Exit\n"
          ]
        }
      ]
    }
  ]
}