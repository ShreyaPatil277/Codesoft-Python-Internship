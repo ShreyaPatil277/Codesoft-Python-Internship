{
  "nbformat": 4,
  "nbformat_minor": 0,
  "metadata": {
    "colab": {
      "provenance": [],
      "authorship_tag": "ABX9TyOgtePb9PJKNsX6RqG7AxrP",
      "include_colab_link": true
    },
    "kernelspec": {
      "name": "python3",
      "display_name": "Python 3"
    },
    "language_info": {
      "name": "python"
    }
  },
  "cells": [
    {
      "cell_type": "markdown",
      "metadata": {
        "id": "view-in-github",
        "colab_type": "text"
      },
      "source": [
        "<a href=\"https://colab.research.google.com/github/ShreyaPatil277/Codesoft-Python-Internship/blob/main/Simple_TO_DO_list.ipynb\" target=\"_parent\"><img src=\"https://colab.research.google.com/assets/colab-badge.svg\" alt=\"Open In Colab\"/></a>"
      ]
    },
    {
      "cell_type": "code",
      "execution_count": null,
      "metadata": {
        "colab": {
          "base_uri": "https://localhost:8080/"
        },
        "id": "MtQ0lF0Z-O47",
        "outputId": "bfbbf66e-9a8d-4984-fa8c-f4c79a5b6151"
      },
      "outputs": [
        {
          "output_type": "stream",
          "name": "stdout",
          "text": [
            "\n",
            "==== To-Do List Menu ====\n",
            "1. Add a task\n",
            "2. View tasks\n",
            "3. Quit\n"
          ]
        }
      ],
      "source": [
        "\n",
        "\n",
        "# Initialize an empty list to store tasks\n",
        "todo_list = []\n",
        "\n",
        "# Function to add a task to the list\n",
        "def add_task(task):\n",
        "    todo_list.append(task)\n",
        "    print(f\"Task '{task}' added to the list.\")\n",
        "\n",
        "# Function to view all tasks\n",
        "def view_tasks():\n",
        "    if len(todo_list) == 0:\n",
        "        print(\"Your to-do list is empty.\")\n",
        "    else:\n",
        "        print(\"Your To-Do List:\")\n",
        "        for index, task in enumerate(todo_list, start=1):\n",
        "            print(f\"{index}. {task}\")\n",
        "\n",
        "# Main program loop\n",
        "while True:\n",
        "    print(\"\\n==== To-Do List Menu ====\")\n",
        "    print(\"1. Add a task\")\n",
        "    print(\"2. View tasks\")\n",
        "    print(\"3. Quit\")\n",
        "\n",
        "    choice = input(\"Enter your choice (1-3): \")\n",
        "\n",
        "    if choice == '1':\n",
        "        task = input(\"Enter a new task: \")\n",
        "        add_task(task)\n",
        "    elif choice == '2':\n",
        "        view_tasks()\n",
        "    elif choice == '3':\n",
        "        print(\"Thank you for using the To-Do List app. Goodbye!\")\n",
        "        break\n",
        "    else:\n",
        "        print(\"Invalid choice. Please try again.\")"
      ]
    }
  ]
}